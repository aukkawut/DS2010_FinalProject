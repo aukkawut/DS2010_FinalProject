{
  "nbformat": 4,
  "nbformat_minor": 0,
  "metadata": {
    "colab": {
      "name": "DS2010.ipynb",
      "provenance": [],
      "authorship_tag": "ABX9TyP4Cq6T8yCm9zFwrznksapH",
      "include_colab_link": true
    },
    "kernelspec": {
      "name": "python3",
      "display_name": "Python 3"
    },
    "language_info": {
      "name": "python"
    }
  },
  "cells": [
    {
      "cell_type": "markdown",
      "metadata": {
        "id": "view-in-github",
        "colab_type": "text"
      },
      "source": [
        "<a href=\"https://colab.research.google.com/github/aukkawut/DS2010_FinalProject/blob/main/DS2010.ipynb\" target=\"_parent\"><img src=\"https://colab.research.google.com/assets/colab-badge.svg\" alt=\"Open In Colab\"/></a>"
      ]
    },
    {
      "cell_type": "markdown",
      "metadata": {
        "id": "97YRsPtNue_a"
      },
      "source": [
        "# EDA and prelim exploration"
      ]
    },
    {
      "cell_type": "code",
      "metadata": {
        "id": "PTPI8ZsAs0P-",
        "colab": {
          "base_uri": "https://localhost:8080/"
        },
        "outputId": "aae67133-74ce-486e-a9af-b93e96d27a23"
      },
      "source": [
        "#import all the libraries\n",
        "import numpy as np #for matrix manipulation\n",
        "import pandas as pd #for read csv files and work with dataframe\n",
        "from sklearn import linear_model #for statistical learning\n",
        "from sklearn.linear_model import LinearRegression #for statistical leanring\n",
        "import statsmodels.api as sm #for calculating p value\n",
        "from scipy import stats #same with previous\n",
        "import matplotlib.pyplot as plt #for visualization\n",
        "import seaborn as sns #for even more visualization\n",
        "from datetime import time, date\n",
        "from sklearn.preprocessing import PowerTransformer"
      ],
      "execution_count": 2,
      "outputs": [
        {
          "output_type": "stream",
          "name": "stderr",
          "text": [
            "/usr/local/lib/python3.7/dist-packages/statsmodels/tools/_testing.py:19: FutureWarning: pandas.util.testing is deprecated. Use the functions in the public API at pandas.testing instead.\n",
            "  import pandas.util.testing as tm\n",
            "/usr/local/lib/python3.7/dist-packages/cpi/__init__.py:46: StaleDataWarning: CPI data is out of date. To accurately inflate to today's dollars, you must run `cpi.update()`.\n",
            "  warnings.warn(StaleDataWarning())\n"
          ]
        }
      ]
    },
    {
      "cell_type": "code",
      "metadata": {
        "id": "blBPuGQ-yVMF"
      },
      "source": [
        "plt.rcParams[\"axes.labelsize\"] = 15"
      ],
      "execution_count": 4,
      "outputs": []
    },
    {
      "cell_type": "markdown",
      "metadata": {
        "id": "-mP1GmhTuE4F"
      },
      "source": [
        "Write `!wget http://aukkawut.github.io/collections/dataset/fire_preventation_and_supression.csv` to download the dataset."
      ]
    },
    {
      "cell_type": "code",
      "metadata": {
        "colab": {
          "base_uri": "https://localhost:8080/"
        },
        "id": "vRQSmDCHuEEc",
        "outputId": "5a3a0d46-4679-4dee-db41-9f582289a71d"
      },
      "source": [
        "!wget http://aukkawut.github.io/collections/dataset/fire_preventation_and_supression.csv"
      ],
      "execution_count": 5,
      "outputs": [
        {
          "output_type": "stream",
          "name": "stdout",
          "text": [
            "--2021-12-06 06:41:46--  http://aukkawut.github.io/collections/dataset/fire_preventation_and_supression.csv\n",
            "Resolving aukkawut.github.io (aukkawut.github.io)... 185.199.108.153, 185.199.109.153, 185.199.111.153, ...\n",
            "Connecting to aukkawut.github.io (aukkawut.github.io)|185.199.108.153|:80... connected.\n",
            "HTTP request sent, awaiting response... 301 Moved Permanently\n",
            "Location: https://aukkawut.info/collections/dataset/fire_preventation_and_supression.csv [following]\n",
            "--2021-12-06 06:41:46--  https://aukkawut.info/collections/dataset/fire_preventation_and_supression.csv\n",
            "Resolving aukkawut.info (aukkawut.info)... 185.199.111.153, 185.199.110.153, 185.199.108.153, ...\n",
            "Connecting to aukkawut.info (aukkawut.info)|185.199.111.153|:443... connected.\n",
            "HTTP request sent, awaiting response... 200 OK\n",
            "Length: 3284 (3.2K) [text/csv]\n",
            "Saving to: ‘fire_preventation_and_supression.csv’\n",
            "\n",
            "fire_preventation_a 100%[===================>]   3.21K  --.-KB/s    in 0s      \n",
            "\n",
            "2021-12-06 06:41:47 (51.0 MB/s) - ‘fire_preventation_and_supression.csv’ saved [3284/3284]\n",
            "\n"
          ]
        }
      ]
    },
    {
      "cell_type": "code",
      "metadata": {
        "id": "bx7J3pFkuBml"
      },
      "source": [
        "#read the dataset\n",
        "data = pd.read_csv('fire_preventation_and_supression.csv',thousands=',')\n",
        "data = data.tail(10) #crop out only 2011-2020\n",
        "#convert format to workable format\n",
        "data['ForestService'] = data.ForestService.replace('[\\$\\,\\.]',\"\",regex=True).astype(int)\n",
        "data['DOIAgencies'] = data.DOIAgencies.replace('[\\$\\,\\.]',\"\",regex=True).astype(int)\n",
        "data['Total'] = data.Total.replace('[\\$\\,\\.]',\"\",regex=True).astype(int)\n",
        "data['Preventation'] = data.Preventation.replace('[\\$\\,\\.]',\"\",regex=True).astype(int)\n",
        "data['New total'] = data['New total'].replace('[\\$\\,\\.]',\"\",regex=True).astype(int)\n"
      ],
      "execution_count": 6,
      "outputs": []
    },
    {
      "cell_type": "code",
      "metadata": {
        "colab": {
          "base_uri": "https://localhost:8080/",
          "height": 1000
        },
        "id": "JSG0Y4AcvBFR",
        "outputId": "85d14f6b-d02c-4d21-beb5-6c9048de54cf"
      },
      "source": [
        "sns.pairplot(data)"
      ],
      "execution_count": 7,
      "outputs": [
        {
          "output_type": "execute_result",
          "data": {
            "text/plain": [
              "<seaborn.axisgrid.PairGrid at 0x7f8c7b3f4750>"
            ]
          },
          "metadata": {},
          "execution_count": 7
        },
        {
          "output_type": "display_data",
          "data": {
            "image/png": "[encoded data removed]",
            "text/plain": [
              "<Figure size 1440x1440 with 72 Axes>"
            ]
          },
          "metadata": {
            "needs_background": "light"
          }
        }
      ]
    },
    {
      "cell_type": "markdown",
      "metadata": {
        "id": "BjokdUQPemXk"
      },
      "source": [
        ""
      ]
    },
    {
      "cell_type": "code",
      "metadata": {
        "id": "ct6oQ8-Aelwq"
      },
      "source": [
        "data2 = data[['ForestService', 'DOIAgencies','Preventation']]"
      ],
      "execution_count": 47,
      "outputs": []
    },
    {
      "cell_type": "code",
      "metadata": {
        "colab": {
          "base_uri": "https://localhost:8080/",
          "height": 363
        },
        "id": "7XFgHWbNfhlI",
        "outputId": "136a0960-362d-47e6-dad4-0269fe36707d"
      },
      "source": [
        "data2"
      ],
      "execution_count": 9,
      "outputs": [
        {
          "output_type": "execute_result",
          "data": {
            "text/html": [
              "<div>\n",
              "<style scoped>\n",
              "    .dataframe tbody tr th:only-of-type {\n",
              "        vertical-align: middle;\n",
              "    }\n",
              "\n",
              "    .dataframe tbody tr th {\n",
              "        vertical-align: top;\n",
              "    }\n",
              "\n",
              "    .dataframe thead th {\n",
              "        text-align: right;\n",
              "    }\n",
              "</style>\n",
              "<table border=\"1\" class=\"dataframe\">\n",
              "  <thead>\n",
              "    <tr style=\"text-align: right;\">\n",
              "      <th></th>\n",
              "      <th>ForestService</th>\n",
              "      <th>DOIAgencies</th>\n",
              "      <th>Preventation</th>\n",
              "    </tr>\n",
              "  </thead>\n",
              "  <tbody>\n",
              "    <tr>\n",
              "      <th>26</th>\n",
              "      <td>1055736000</td>\n",
              "      <td>318789000</td>\n",
              "      <td>67370000000</td>\n",
              "    </tr>\n",
              "    <tr>\n",
              "      <th>27</th>\n",
              "      <td>1436614000</td>\n",
              "      <td>465832000</td>\n",
              "      <td>100440000000</td>\n",
              "    </tr>\n",
              "    <tr>\n",
              "      <th>28</th>\n",
              "      <td>1341735000</td>\n",
              "      <td>399199000</td>\n",
              "      <td>94850000000</td>\n",
              "    </tr>\n",
              "    <tr>\n",
              "      <th>29</th>\n",
              "      <td>1195955000</td>\n",
              "      <td>326194000</td>\n",
              "      <td>105760000000</td>\n",
              "    </tr>\n",
              "    <tr>\n",
              "      <th>30</th>\n",
              "      <td>1713000000</td>\n",
              "      <td>417543000</td>\n",
              "      <td>114580000000</td>\n",
              "    </tr>\n",
              "    <tr>\n",
              "      <th>31</th>\n",
              "      <td>1603806000</td>\n",
              "      <td>371739000</td>\n",
              "      <td>108260000000</td>\n",
              "    </tr>\n",
              "    <tr>\n",
              "      <th>32</th>\n",
              "      <td>2410165000</td>\n",
              "      <td>508000000</td>\n",
              "      <td>108260000000</td>\n",
              "    </tr>\n",
              "    <tr>\n",
              "      <th>33</th>\n",
              "      <td>2615256000</td>\n",
              "      <td>528000000</td>\n",
              "      <td>132350000000</td>\n",
              "    </tr>\n",
              "    <tr>\n",
              "      <th>34</th>\n",
              "      <td>1150000000</td>\n",
              "      <td>440000000</td>\n",
              "      <td>133960000000</td>\n",
              "    </tr>\n",
              "    <tr>\n",
              "      <th>35</th>\n",
              "      <td>1764000000</td>\n",
              "      <td>510000000</td>\n",
              "      <td>133960000000</td>\n",
              "    </tr>\n",
              "  </tbody>\n",
              "</table>\n",
              "</div>"
            ],
            "text/plain": [
              "    ForestService  DOIAgencies  Preventation\n",
              "26     1055736000    318789000   67370000000\n",
              "27     1436614000    465832000  100440000000\n",
              "28     1341735000    399199000   94850000000\n",
              "29     1195955000    326194000  105760000000\n",
              "30     1713000000    417543000  114580000000\n",
              "31     1603806000    371739000  108260000000\n",
              "32     2410165000    508000000  108260000000\n",
              "33     2615256000    528000000  132350000000\n",
              "34     1150000000    440000000  133960000000\n",
              "35     1764000000    510000000  133960000000"
            ]
          },
          "metadata": {},
          "execution_count": 9
        }
      ]
    },
    {
      "cell_type": "code",
      "metadata": {
        "id": "99mITTGkenER"
      },
      "source": [
        "import statsmodels.api as sm\n",
        "from scipy import stats"
      ],
      "execution_count": null,
      "outputs": []
    },
    {
      "cell_type": "code",
      "metadata": {
        "id": "hh-rmLnVfsma"
      },
      "source": [
        "Y = data.Acres.to_list()"
      ],
      "execution_count": 11,
      "outputs": []
    },
    {
      "cell_type": "code",
      "metadata": {
        "id": "YY3JhfNWiN-x"
      },
      "source": [
        "Y2 = data.Fires.to_list()"
      ],
      "execution_count": 13,
      "outputs": []
    },
    {
      "cell_type": "code",
      "metadata": {
        "colab": {
          "base_uri": "https://localhost:8080/"
        },
        "id": "yPTghecSenuH",
        "outputId": "d27c1019-4548-42dd-cf51-721ad675ed7c"
      },
      "source": [
        "X2 = sm.add_constant(data2)\n",
        "est = sm.OLS(Y, X2)\n",
        "est2 = est.fit()\n",
        "print(est2.summary())"
      ],
      "execution_count": 12,
      "outputs": [
        {
          "output_type": "stream",
          "name": "stdout",
          "text": [
            "                            OLS Regression Results                            \n",
            "==============================================================================\n",
            "Dep. Variable:                      y   R-squared:                       0.528\n",
            "Model:                            OLS   Adj. R-squared:                  0.291\n",
            "Method:                 Least Squares   F-statistic:                     2.233\n",
            "Date:                Mon, 06 Dec 2021   Prob (F-statistic):              0.185\n",
            "Time:                        06:47:40   Log-Likelihood:                -157.87\n",
            "No. Observations:                  10   AIC:                             323.7\n",
            "Df Residuals:                       6   BIC:                             325.0\n",
            "Df Model:                           3                                         \n",
            "Covariance Type:            nonrobust                                         \n",
            "=================================================================================\n",
            "                    coef    std err          t      P>|t|      [0.025      0.975]\n",
            "---------------------------------------------------------------------------------\n",
            "const          1.786e+06   4.75e+06      0.376      0.720   -9.84e+06    1.34e+07\n",
            "ForestService     0.0008      0.002      0.361      0.731      -0.005       0.006\n",
            "DOIAgencies       0.0299      0.019      1.562      0.169      -0.017       0.077\n",
            "Preventation  -7.641e-05   5.01e-05     -1.525      0.178      -0.000    4.62e-05\n",
            "==============================================================================\n",
            "Omnibus:                        0.285   Durbin-Watson:                   1.907\n",
            "Prob(Omnibus):                  0.867   Jarque-Bera (JB):                0.098\n",
            "Skew:                           0.162   Prob(JB):                        0.952\n",
            "Kurtosis:                       2.639   Cond. No.                     7.48e+11\n",
            "==============================================================================\n",
            "\n",
            "Warnings:\n",
            "[1] Standard Errors assume that the covariance matrix of the errors is correctly specified.\n",
            "[2] The condition number is large, 7.48e+11. This might indicate that there are\n",
            "strong multicollinearity or other numerical problems.\n"
          ]
        },
        {
          "output_type": "stream",
          "name": "stderr",
          "text": [
            "/usr/local/lib/python3.7/dist-packages/scipy/stats/stats.py:1535: UserWarning: kurtosistest only valid for n>=20 ... continuing anyway, n=10\n",
            "  \"anyway, n=%i\" % int(n))\n"
          ]
        }
      ]
    },
    {
      "cell_type": "code",
      "metadata": {
        "id": "hYyFVPD6fPTb",
        "colab": {
          "base_uri": "https://localhost:8080/"
        },
        "outputId": "00e93b26-33c2-4d8b-9c01-f29deeda0ee0"
      },
      "source": [
        "X2 = sm.add_constant(data2)\n",
        "est = sm.OLS(Y2, X2)\n",
        "est2 = est.fit()\n",
        "print(est2.summary())"
      ],
      "execution_count": 14,
      "outputs": [
        {
          "output_type": "stream",
          "name": "stdout",
          "text": [
            "                            OLS Regression Results                            \n",
            "==============================================================================\n",
            "Dep. Variable:                      y   R-squared:                       0.395\n",
            "Model:                            OLS   Adj. R-squared:                  0.093\n",
            "Method:                 Least Squares   F-statistic:                     1.308\n",
            "Date:                Mon, 06 Dec 2021   Prob (F-statistic):              0.356\n",
            "Time:                        06:58:24   Log-Likelihood:                -102.00\n",
            "No. Observations:                  10   AIC:                             212.0\n",
            "Df Residuals:                       6   BIC:                             213.2\n",
            "Df Model:                           3                                         \n",
            "Covariance Type:            nonrobust                                         \n",
            "=================================================================================\n",
            "                    coef    std err          t      P>|t|      [0.025      0.975]\n",
            "---------------------------------------------------------------------------------\n",
            "const          8.688e+04   1.78e+04      4.883      0.003    4.33e+04     1.3e+05\n",
            "ForestService  9.663e-06   8.49e-06      1.138      0.299   -1.11e-05    3.04e-05\n",
            "DOIAgencies    -2.93e-05   7.16e-05     -0.409      0.697      -0.000       0.000\n",
            "Preventation  -2.484e-07   1.88e-07     -1.323      0.234   -7.08e-07    2.11e-07\n",
            "==============================================================================\n",
            "Omnibus:                       12.846   Durbin-Watson:                   2.300\n",
            "Prob(Omnibus):                  0.002   Jarque-Bera (JB):                6.156\n",
            "Skew:                          -1.687   Prob(JB):                       0.0460\n",
            "Kurtosis:                       4.843   Cond. No.                     7.48e+11\n",
            "==============================================================================\n",
            "\n",
            "Warnings:\n",
            "[1] Standard Errors assume that the covariance matrix of the errors is correctly specified.\n",
            "[2] The condition number is large, 7.48e+11. This might indicate that there are\n",
            "strong multicollinearity or other numerical problems.\n"
          ]
        },
        {
          "output_type": "stream",
          "name": "stderr",
          "text": [
            "/usr/local/lib/python3.7/dist-packages/scipy/stats/stats.py:1535: UserWarning: kurtosistest only valid for n>=20 ... continuing anyway, n=10\n",
            "  \"anyway, n=%i\" % int(n))\n"
          ]
        }
      ]
    },
    {
      "cell_type": "code",
      "metadata": {
        "id": "aVN83RopkRM5"
      },
      "source": [
        "from sklearn import tree"
      ],
      "execution_count": 30,
      "outputs": []
    },
    {
      "cell_type": "code",
      "metadata": {
        "id": "7uGQomVwkTDN"
      },
      "source": [
        "clf = tree.DecisionTreeRegressor()\n",
        "clf = clf.fit(data2, Y)"
      ],
      "execution_count": 31,
      "outputs": []
    },
    {
      "cell_type": "code",
      "metadata": {
        "id": "Kt922FrwkYrY"
      },
      "source": [
        "from sklearn.tree import export_text"
      ],
      "execution_count": 32,
      "outputs": []
    },
    {
      "cell_type": "code",
      "metadata": {
        "id": "fjFEU4RwkuqA"
      },
      "source": [
        "r = export_text(clf, feature_names=['ForestService', 'DOIAgencies','Preventation'])"
      ],
      "execution_count": 36,
      "outputs": []
    },
    {
      "cell_type": "code",
      "metadata": {
        "colab": {
          "base_uri": "https://localhost:8080/"
        },
        "id": "t66MvTRmkyok",
        "outputId": "1eace390-181d-4fed-88b4-a3441e5be3d5"
      },
      "source": [
        "print(r)"
      ],
      "execution_count": 37,
      "outputs": [
        {
          "output_type": "stream",
          "name": "stdout",
          "text": [
            "|--- ForestService <= 1658402944.00\n",
            "|   |--- DOIAgencies <= 452916000.00\n",
            "|   |   |--- Preventation <= 81109999616.00\n",
            "|   |   |   |--- value: [8711367.00]\n",
            "|   |   |--- Preventation >  81109999616.00\n",
            "|   |   |   |--- ForestService <= 1472770496.00\n",
            "|   |   |   |   |--- DOIAgencies <= 362696496.00\n",
            "|   |   |   |   |   |--- value: [3595613.00]\n",
            "|   |   |   |   |--- DOIAgencies >  362696496.00\n",
            "|   |   |   |   |   |--- Preventation <= 114404999168.00\n",
            "|   |   |   |   |   |   |--- value: [4319546.00]\n",
            "|   |   |   |   |   |--- Preventation >  114404999168.00\n",
            "|   |   |   |   |   |   |--- value: [4664364.00]\n",
            "|   |   |   |--- ForestService >  1472770496.00\n",
            "|   |   |   |   |--- value: [5503538.00]\n",
            "|   |--- DOIAgencies >  452916000.00\n",
            "|   |   |--- value: [9326238.00]\n",
            "|--- ForestService >  1658402944.00\n",
            "|   |--- ForestService <= 2512710528.00\n",
            "|   |   |--- ForestService <= 2087082496.00\n",
            "|   |   |   |--- ForestService <= 1738499968.00\n",
            "|   |   |   |   |--- value: [10125149.00]\n",
            "|   |   |   |--- ForestService >  1738499968.00\n",
            "|   |   |   |   |--- value: [10122336.00]\n",
            "|   |   |--- ForestService >  2087082496.00\n",
            "|   |   |   |--- value: [10026086.00]\n",
            "|   |--- ForestService >  2512710528.00\n",
            "|   |   |--- value: [8767492.00]\n",
            "\n"
          ]
        }
      ]
    },
    {
      "cell_type": "code",
      "metadata": {
        "id": "5woi8UuBlPuq"
      },
      "source": [
        "import graphviz "
      ],
      "execution_count": 38,
      "outputs": []
    },
    {
      "cell_type": "code",
      "metadata": {
        "id": "3KHyw2RJrg3B"
      },
      "source": [
        "data2= data2/1000000"
      ],
      "execution_count": 48,
      "outputs": []
    },
    {
      "cell_type": "code",
      "metadata": {
        "colab": {
          "base_uri": "https://localhost:8080/",
          "height": 363
        },
        "id": "W2D4Z2Pkrj3L",
        "outputId": "a65372df-54f6-4155-a82a-4dd94e1350df"
      },
      "source": [
        "data2"
      ],
      "execution_count": 49,
      "outputs": [
        {
          "output_type": "execute_result",
          "data": {
            "text/html": [
              "<div>\n",
              "<style scoped>\n",
              "    .dataframe tbody tr th:only-of-type {\n",
              "        vertical-align: middle;\n",
              "    }\n",
              "\n",
              "    .dataframe tbody tr th {\n",
              "        vertical-align: top;\n",
              "    }\n",
              "\n",
              "    .dataframe thead th {\n",
              "        text-align: right;\n",
              "    }\n",
              "</style>\n",
              "<table border=\"1\" class=\"dataframe\">\n",
              "  <thead>\n",
              "    <tr style=\"text-align: right;\">\n",
              "      <th></th>\n",
              "      <th>ForestService</th>\n",
              "      <th>DOIAgencies</th>\n",
              "      <th>Preventation</th>\n",
              "    </tr>\n",
              "  </thead>\n",
              "  <tbody>\n",
              "    <tr>\n",
              "      <th>26</th>\n",
              "      <td>1055.736</td>\n",
              "      <td>318.789</td>\n",
              "      <td>67370.0</td>\n",
              "    </tr>\n",
              "    <tr>\n",
              "      <th>27</th>\n",
              "      <td>1436.614</td>\n",
              "      <td>465.832</td>\n",
              "      <td>100440.0</td>\n",
              "    </tr>\n",
              "    <tr>\n",
              "      <th>28</th>\n",
              "      <td>1341.735</td>\n",
              "      <td>399.199</td>\n",
              "      <td>94850.0</td>\n",
              "    </tr>\n",
              "    <tr>\n",
              "      <th>29</th>\n",
              "      <td>1195.955</td>\n",
              "      <td>326.194</td>\n",
              "      <td>105760.0</td>\n",
              "    </tr>\n",
              "    <tr>\n",
              "      <th>30</th>\n",
              "      <td>1713.000</td>\n",
              "      <td>417.543</td>\n",
              "      <td>114580.0</td>\n",
              "    </tr>\n",
              "    <tr>\n",
              "      <th>31</th>\n",
              "      <td>1603.806</td>\n",
              "      <td>371.739</td>\n",
              "      <td>108260.0</td>\n",
              "    </tr>\n",
              "    <tr>\n",
              "      <th>32</th>\n",
              "      <td>2410.165</td>\n",
              "      <td>508.000</td>\n",
              "      <td>108260.0</td>\n",
              "    </tr>\n",
              "    <tr>\n",
              "      <th>33</th>\n",
              "      <td>2615.256</td>\n",
              "      <td>528.000</td>\n",
              "      <td>132350.0</td>\n",
              "    </tr>\n",
              "    <tr>\n",
              "      <th>34</th>\n",
              "      <td>1150.000</td>\n",
              "      <td>440.000</td>\n",
              "      <td>133960.0</td>\n",
              "    </tr>\n",
              "    <tr>\n",
              "      <th>35</th>\n",
              "      <td>1764.000</td>\n",
              "      <td>510.000</td>\n",
              "      <td>133960.0</td>\n",
              "    </tr>\n",
              "  </tbody>\n",
              "</table>\n",
              "</div>"
            ],
            "text/plain": [
              "    ForestService  DOIAgencies  Preventation\n",
              "26       1055.736      318.789       67370.0\n",
              "27       1436.614      465.832      100440.0\n",
              "28       1341.735      399.199       94850.0\n",
              "29       1195.955      326.194      105760.0\n",
              "30       1713.000      417.543      114580.0\n",
              "31       1603.806      371.739      108260.0\n",
              "32       2410.165      508.000      108260.0\n",
              "33       2615.256      528.000      132350.0\n",
              "34       1150.000      440.000      133960.0\n",
              "35       1764.000      510.000      133960.0"
            ]
          },
          "metadata": {},
          "execution_count": 49
        }
      ]
    },
    {
      "cell_type": "code",
      "metadata": {
        "colab": {
          "base_uri": "https://localhost:8080/"
        },
        "id": "N2QXU9etrqy0",
        "outputId": "559f2dad-ee5a-4af3-cbaf-1f7c96ee6ef5"
      },
      "source": [
        "data3 = pt.fit_transform(data2)"
      ],
      "execution_count": 51,
      "outputs": [
        {
          "output_type": "stream",
          "name": "stderr",
          "text": [
            "/usr/local/lib/python3.7/dist-packages/sklearn/preprocessing/_data.py:3253: RuntimeWarning: divide by zero encountered in log\n",
            "  loglike = -n_samples / 2 * np.log(x_trans.var())\n"
          ]
        }
      ]
    },
    {
      "cell_type": "code",
      "metadata": {
        "colab": {
          "base_uri": "https://localhost:8080/"
        },
        "id": "vXoVa_VusqDF",
        "outputId": "dfe301ac-ae78-4276-9090-ad911f30f9d9"
      },
      "source": [
        "pt.lambdas_"
      ],
      "execution_count": 54,
      "outputs": [
        {
          "output_type": "execute_result",
          "data": {
            "text/plain": [
              "array([-8.54987419,  1.26752693,  2.12876359])"
            ]
          },
          "metadata": {},
          "execution_count": 54
        }
      ]
    },
    {
      "cell_type": "code",
      "metadata": {
        "colab": {
          "base_uri": "https://localhost:8080/"
        },
        "id": "RPkNzFI2rvUF",
        "outputId": "047ce3bb-a0fa-4554-9a26-2e321561e962"
      },
      "source": [
        "X2 = sm.add_constant(data3)\n",
        "est = sm.OLS(Y, X2)\n",
        "est2 = est.fit()\n",
        "print(est2.summary())"
      ],
      "execution_count": 53,
      "outputs": [
        {
          "output_type": "stream",
          "name": "stdout",
          "text": [
            "                            OLS Regression Results                            \n",
            "==============================================================================\n",
            "Dep. Variable:                      y   R-squared:                       0.490\n",
            "Model:                            OLS   Adj. R-squared:                  0.344\n",
            "Method:                 Least Squares   F-statistic:                     3.358\n",
            "Date:                Mon, 06 Dec 2021   Prob (F-statistic):             0.0950\n",
            "Time:                        07:40:01   Log-Likelihood:                -158.26\n",
            "No. Observations:                  10   AIC:                             322.5\n",
            "Df Residuals:                       7   BIC:                             323.4\n",
            "Df Model:                           2                                         \n",
            "Covariance Type:            nonrobust                                         \n",
            "==============================================================================\n",
            "                 coef    std err          t      P>|t|      [0.025      0.975]\n",
            "------------------------------------------------------------------------------\n",
            "const       7.516e+06   6.83e+05     11.008      0.000     5.9e+06    9.13e+06\n",
            "x1         -2.202e-10   1.46e-10     -1.510      0.175   -5.65e-10    1.25e-10\n",
            "x2          2.389e+06   9.29e+05      2.572      0.037    1.92e+05    4.59e+06\n",
            "x3         -1.403e+06   9.29e+05     -1.510      0.175    -3.6e+06    7.94e+05\n",
            "==============================================================================\n",
            "Omnibus:                        0.163   Durbin-Watson:                   1.900\n",
            "Prob(Omnibus):                  0.922   Jarque-Bera (JB):                0.110\n",
            "Skew:                           0.126   Prob(JB):                        0.947\n",
            "Kurtosis:                       2.552   Cond. No.                     7.65e+16\n",
            "==============================================================================\n",
            "\n",
            "Warnings:\n",
            "[1] Standard Errors assume that the covariance matrix of the errors is correctly specified.\n",
            "[2] The smallest eigenvalue is 2.87e-33. This might indicate that there are\n",
            "strong multicollinearity problems or that the design matrix is singular.\n"
          ]
        },
        {
          "output_type": "stream",
          "name": "stderr",
          "text": [
            "/usr/local/lib/python3.7/dist-packages/scipy/stats/stats.py:1535: UserWarning: kurtosistest only valid for n>=20 ... continuing anyway, n=10\n",
            "  \"anyway, n=%i\" % int(n))\n"
          ]
        }
      ]
    },
    {
      "cell_type": "code",
      "metadata": {
        "colab": {
          "base_uri": "https://localhost:8080/",
          "height": 935
        },
        "id": "rwBA0fNklNOx",
        "outputId": "16940ca1-42cb-4c14-aa34-ece22a72774f"
      },
      "source": [
        "dot_data = tree.export_graphviz(clf, out_file=None, \n",
        "                     feature_names=['sfs', 'sdoi','p'],   \n",
        "                     filled=True, rounded=True,  \n",
        "                     special_characters=True)  \n",
        "graph = graphviz.Source(dot_data)  \n",
        "graph "
      ],
      "execution_count": 42,
      "outputs": [
        {
          "output_type": "execute_result",
          "data": {
            "text/plain": [
              "<graphviz.files.Source at 0x7f8c69a78b10>"
            ],
            "image/svg+xml": "<?xml version=\"1.0\" encoding=\"UTF-8\" standalone=\"no\"?>\n<!DOCTYPE svg PUBLIC \"-//W3C//DTD SVG 1.1//EN\"\n \"http://www.w3.org/Graphics/SVG/1.1/DTD/svg11.dtd\">\n<!-- Generated by graphviz version 2.40.1 (20161225.0304)\n -->\n<!-- Title: Tree Pages: 1 -->\n<svg width=\"1025pt\" height=\"685pt\"\n viewBox=\"0.00 0.00 1025.00 685.00\" xmlns=\"http://www.w3.org/2000/svg\" xmlns:xlink=\"http://www.w3.org/1999/xlink\">\n<g id=\"graph0\" class=\"graph\" transform=\"scale(1 1) rotate(0) translate(4 681)\">\n<title>Tree</title>\n<polygon fill=\"#ffffff\" stroke=\"transparent\" points=\"-4,4 -4,-681 1021,-681 1021,4 -4,4\"/>\n<!-- 0 -->\n<g id=\"node1\" class=\"node\">\n<title>0</title>\n<path fill=\"#efb388\" stroke=\"#000000\" d=\"M736,-677C736,-677 500,-677 500,-677 494,-677 488,-671 488,-665 488,-665 488,-621 488,-621 488,-615 494,-609 500,-609 500,-609 736,-609 736,-609 742,-609 748,-615 748,-621 748,-621 748,-665 748,-665 748,-671 742,-677 736,-677\"/>\n<text text-anchor=\"start\" x=\"553.5\" y=\"-661.8\" font-family=\"Helvetica,sans-Serif\" font-size=\"14.00\" fill=\"#000000\">sfs ≤ 1658402944.0</text>\n<text text-anchor=\"start\" x=\"496\" y=\"-646.8\" font-family=\"Helvetica,sans-Serif\" font-size=\"14.00\" fill=\"#000000\">squared_error = 6394185696677.086</text>\n<text text-anchor=\"start\" x=\"574\" y=\"-631.8\" font-family=\"Helvetica,sans-Serif\" font-size=\"14.00\" fill=\"#000000\">samples = 10</text>\n<text text-anchor=\"start\" x=\"557.5\" y=\"-616.8\" font-family=\"Helvetica,sans-Serif\" font-size=\"14.00\" fill=\"#000000\">value = 7516172.9</text>\n</g>\n<!-- 1 -->\n<g id=\"node2\" class=\"node\">\n<title>1</title>\n<path fill=\"#f5d0b5\" stroke=\"#000000\" d=\"M595.5,-573C595.5,-573 376.5,-573 376.5,-573 370.5,-573 364.5,-567 364.5,-561 364.5,-561 364.5,-517 364.5,-517 364.5,-511 370.5,-505 376.5,-505 376.5,-505 595.5,-505 595.5,-505 601.5,-505 607.5,-511 607.5,-517 607.5,-517 607.5,-561 607.5,-561 607.5,-567 601.5,-573 595.5,-573\"/>\n<text text-anchor=\"start\" x=\"421.5\" y=\"-557.8\" font-family=\"Helvetica,sans-Serif\" font-size=\"14.00\" fill=\"#000000\">sdoi ≤ 452916000.0</text>\n<text text-anchor=\"start\" x=\"372.5\" y=\"-542.8\" font-family=\"Helvetica,sans-Serif\" font-size=\"14.00\" fill=\"#000000\">squared_error = 4841390676872.0</text>\n<text text-anchor=\"start\" x=\"446.5\" y=\"-527.8\" font-family=\"Helvetica,sans-Serif\" font-size=\"14.00\" fill=\"#000000\">samples = 6</text>\n<text text-anchor=\"start\" x=\"425.5\" y=\"-512.8\" font-family=\"Helvetica,sans-Serif\" font-size=\"14.00\" fill=\"#000000\">value = 6020111.0</text>\n</g>\n<!-- 0&#45;&gt;1 -->\n<g id=\"edge1\" class=\"edge\">\n<title>0&#45;&gt;1</title>\n<path fill=\"none\" stroke=\"#000000\" d=\"M574.7783,-608.9465C562.8126,-599.519 549.7085,-589.1946 537.3296,-579.4415\"/>\n<polygon fill=\"#000000\" stroke=\"#000000\" points=\"539.3398,-576.5695 529.3188,-573.13 535.0077,-582.068 539.3398,-576.5695\"/>\n<text text-anchor=\"middle\" x=\"532.2643\" y=\"-594.2559\" font-family=\"Helvetica,sans-Serif\" font-size=\"14.00\" fill=\"#000000\">True</text>\n</g>\n<!-- 12 -->\n<g id=\"node13\" class=\"node\">\n<title>12</title>\n<path fill=\"#e68844\" stroke=\"#000000\" d=\"M864.5,-573C864.5,-573 637.5,-573 637.5,-573 631.5,-573 625.5,-567 625.5,-561 625.5,-561 625.5,-517 625.5,-517 625.5,-511 631.5,-505 637.5,-505 637.5,-505 864.5,-505 864.5,-505 870.5,-505 876.5,-511 876.5,-517 876.5,-517 876.5,-561 876.5,-561 876.5,-567 870.5,-573 864.5,-573\"/>\n<text text-anchor=\"start\" x=\"686.5\" y=\"-557.8\" font-family=\"Helvetica,sans-Serif\" font-size=\"14.00\" fill=\"#000000\">sfs ≤ 2512710528.0</text>\n<text text-anchor=\"start\" x=\"633.5\" y=\"-542.8\" font-family=\"Helvetica,sans-Serif\" font-size=\"14.00\" fill=\"#000000\">squared_error = 330123694016.188</text>\n<text text-anchor=\"start\" x=\"711.5\" y=\"-527.8\" font-family=\"Helvetica,sans-Serif\" font-size=\"14.00\" fill=\"#000000\">samples = 4</text>\n<text text-anchor=\"start\" x=\"686\" y=\"-512.8\" font-family=\"Helvetica,sans-Serif\" font-size=\"14.00\" fill=\"#000000\">value = 9760265.75</text>\n</g>\n<!-- 0&#45;&gt;12 -->\n<g id=\"edge12\" class=\"edge\">\n<title>0&#45;&gt;12</title>\n<path fill=\"none\" stroke=\"#000000\" d=\"M661.5492,-608.9465C673.6054,-599.519 686.8089,-589.1946 699.2816,-579.4415\"/>\n<polygon fill=\"#000000\" stroke=\"#000000\" points=\"701.6314,-582.0471 707.353,-573.13 697.3194,-576.5328 701.6314,-582.0471\"/>\n<text text-anchor=\"middle\" x=\"704.3166\" y=\"-594.2449\" font-family=\"Helvetica,sans-Serif\" font-size=\"14.00\" fill=\"#000000\">False</text>\n</g>\n<!-- 2 -->\n<g id=\"node3\" class=\"node\">\n<title>2</title>\n<path fill=\"#f8ddca\" stroke=\"#000000\" d=\"M399,-469C399,-469 163,-469 163,-469 157,-469 151,-463 151,-457 151,-457 151,-413 151,-413 151,-407 157,-401 163,-401 163,-401 399,-401 399,-401 405,-401 411,-407 411,-413 411,-413 411,-457 411,-457 411,-463 405,-469 399,-469\"/>\n<text text-anchor=\"start\" x=\"217.5\" y=\"-453.8\" font-family=\"Helvetica,sans-Serif\" font-size=\"14.00\" fill=\"#000000\">p ≤ 81109999616.0</text>\n<text text-anchor=\"start\" x=\"159\" y=\"-438.8\" font-family=\"Helvetica,sans-Serif\" font-size=\"14.00\" fill=\"#000000\">squared_error = 3186354634615.446</text>\n<text text-anchor=\"start\" x=\"241.5\" y=\"-423.8\" font-family=\"Helvetica,sans-Serif\" font-size=\"14.00\" fill=\"#000000\">samples = 5</text>\n<text text-anchor=\"start\" x=\"220.5\" y=\"-408.8\" font-family=\"Helvetica,sans-Serif\" font-size=\"14.00\" fill=\"#000000\">value = 5358885.6</text>\n</g>\n<!-- 1&#45;&gt;2 -->\n<g id=\"edge2\" class=\"edge\">\n<title>1&#45;&gt;2</title>\n<path fill=\"none\" stroke=\"#000000\" d=\"M418.8753,-504.9465C399.2305,-494.9803 377.6096,-484.0117 357.4323,-473.7754\"/>\n<polygon fill=\"#000000\" stroke=\"#000000\" points=\"358.777,-470.533 348.2755,-469.13 355.61,-476.7756 358.777,-470.533\"/>\n</g>\n<!-- 11 -->\n<g id=\"node12\" class=\"node\">\n<title>11</title>\n<path fill=\"#e89051\" stroke=\"#000000\" d=\"M561,-461.5C561,-461.5 441,-461.5 441,-461.5 435,-461.5 429,-455.5 429,-449.5 429,-449.5 429,-420.5 429,-420.5 429,-414.5 435,-408.5 441,-408.5 441,-408.5 561,-408.5 561,-408.5 567,-408.5 573,-414.5 573,-420.5 573,-420.5 573,-449.5 573,-449.5 573,-455.5 567,-461.5 561,-461.5\"/>\n<text text-anchor=\"start\" x=\"437\" y=\"-446.3\" font-family=\"Helvetica,sans-Serif\" font-size=\"14.00\" fill=\"#000000\">squared_error = 0.0</text>\n<text text-anchor=\"start\" x=\"461.5\" y=\"-431.3\" font-family=\"Helvetica,sans-Serif\" font-size=\"14.00\" fill=\"#000000\">samples = 1</text>\n<text text-anchor=\"start\" x=\"440.5\" y=\"-416.3\" font-family=\"Helvetica,sans-Serif\" font-size=\"14.00\" fill=\"#000000\">value = 9326238.0</text>\n</g>\n<!-- 1&#45;&gt;11 -->\n<g id=\"edge11\" class=\"edge\">\n<title>1&#45;&gt;11</title>\n<path fill=\"none\" stroke=\"#000000\" d=\"M490.9116,-504.9465C492.4526,-494.2621 494.1598,-482.4254 495.7249,-471.5742\"/>\n<polygon fill=\"#000000\" stroke=\"#000000\" points=\"499.2083,-471.9394 497.1718,-461.5422 492.28,-470.9401 499.2083,-471.9394\"/>\n</g>\n<!-- 3 -->\n<g id=\"node4\" class=\"node\">\n<title>3</title>\n<path fill=\"#eb9c64\" stroke=\"#000000\" d=\"M162,-357.5C162,-357.5 42,-357.5 42,-357.5 36,-357.5 30,-351.5 30,-345.5 30,-345.5 30,-316.5 30,-316.5 30,-310.5 36,-304.5 42,-304.5 42,-304.5 162,-304.5 162,-304.5 168,-304.5 174,-310.5 174,-316.5 174,-316.5 174,-345.5 174,-345.5 174,-351.5 168,-357.5 162,-357.5\"/>\n<text text-anchor=\"start\" x=\"38\" y=\"-342.3\" font-family=\"Helvetica,sans-Serif\" font-size=\"14.00\" fill=\"#000000\">squared_error = 0.0</text>\n<text text-anchor=\"start\" x=\"62.5\" y=\"-327.3\" font-family=\"Helvetica,sans-Serif\" font-size=\"14.00\" fill=\"#000000\">samples = 1</text>\n<text text-anchor=\"start\" x=\"41.5\" y=\"-312.3\" font-family=\"Helvetica,sans-Serif\" font-size=\"14.00\" fill=\"#000000\">value = 8711367.0</text>\n</g>\n<!-- 2&#45;&gt;3 -->\n<g id=\"edge3\" class=\"edge\">\n<title>2&#45;&gt;3</title>\n<path fill=\"none\" stroke=\"#000000\" d=\"M222.3887,-400.9465C201.1554,-388.6098 177.2782,-374.7371 156.4207,-362.6187\"/>\n<polygon fill=\"#000000\" stroke=\"#000000\" points=\"158.088,-359.5396 147.6831,-357.5422 154.5714,-365.5922 158.088,-359.5396\"/>\n</g>\n<!-- 4 -->\n<g id=\"node5\" class=\"node\">\n<title>4</title>\n<path fill=\"#fbede3\" stroke=\"#000000\" d=\"M431.5,-365C431.5,-365 204.5,-365 204.5,-365 198.5,-365 192.5,-359 192.5,-353 192.5,-353 192.5,-309 192.5,-309 192.5,-303 198.5,-297 204.5,-297 204.5,-297 431.5,-297 431.5,-297 437.5,-297 443.5,-303 443.5,-309 443.5,-309 443.5,-353 443.5,-353 443.5,-359 437.5,-365 431.5,-365\"/>\n<text text-anchor=\"start\" x=\"253.5\" y=\"-349.8\" font-family=\"Helvetica,sans-Serif\" font-size=\"14.00\" fill=\"#000000\">sfs ≤ 1472770496.0</text>\n<text text-anchor=\"start\" x=\"200.5\" y=\"-334.8\" font-family=\"Helvetica,sans-Serif\" font-size=\"14.00\" fill=\"#000000\">squared_error = 470714687848.688</text>\n<text text-anchor=\"start\" x=\"278.5\" y=\"-319.8\" font-family=\"Helvetica,sans-Serif\" font-size=\"14.00\" fill=\"#000000\">samples = 4</text>\n<text text-anchor=\"start\" x=\"253\" y=\"-304.8\" font-family=\"Helvetica,sans-Serif\" font-size=\"14.00\" fill=\"#000000\">value = 4520765.25</text>\n</g>\n<!-- 2&#45;&gt;4 -->\n<g id=\"edge4\" class=\"edge\">\n<title>2&#45;&gt;4</title>\n<path fill=\"none\" stroke=\"#000000\" d=\"M293.1152,-400.9465C296.0859,-392.5965 299.3069,-383.5427 302.4153,-374.8056\"/>\n<polygon fill=\"#000000\" stroke=\"#000000\" points=\"305.8032,-375.7247 305.8576,-365.13 299.2081,-373.3783 305.8032,-375.7247\"/>\n</g>\n<!-- 5 -->\n<g id=\"node6\" class=\"node\">\n<title>5</title>\n<path fill=\"#fdf3ed\" stroke=\"#000000\" d=\"M287.5,-261C287.5,-261 60.5,-261 60.5,-261 54.5,-261 48.5,-255 48.5,-249 48.5,-249 48.5,-205 48.5,-205 48.5,-199 54.5,-193 60.5,-193 60.5,-193 287.5,-193 287.5,-193 293.5,-193 299.5,-199 299.5,-205 299.5,-205 299.5,-249 299.5,-249 299.5,-255 293.5,-261 287.5,-261\"/>\n<text text-anchor=\"start\" x=\"109.5\" y=\"-245.8\" font-family=\"Helvetica,sans-Serif\" font-size=\"14.00\" fill=\"#000000\">sdoi ≤ 362696496.0</text>\n<text text-anchor=\"start\" x=\"56.5\" y=\"-230.8\" font-family=\"Helvetica,sans-Serif\" font-size=\"14.00\" fill=\"#000000\">squared_error = 198356349068.223</text>\n<text text-anchor=\"start\" x=\"134.5\" y=\"-215.8\" font-family=\"Helvetica,sans-Serif\" font-size=\"14.00\" fill=\"#000000\">samples = 3</text>\n<text text-anchor=\"start\" x=\"105\" y=\"-200.8\" font-family=\"Helvetica,sans-Serif\" font-size=\"14.00\" fill=\"#000000\">value = 4193174.333</text>\n</g>\n<!-- 4&#45;&gt;5 -->\n<g id=\"edge5\" class=\"edge\">\n<title>4&#45;&gt;5</title>\n<path fill=\"none\" stroke=\"#000000\" d=\"M270.849,-296.9465C257.6713,-287.4293 243.2278,-276.9978 229.6103,-267.163\"/>\n<polygon fill=\"#000000\" stroke=\"#000000\" points=\"231.413,-264.1476 221.2569,-261.13 227.3145,-269.8223 231.413,-264.1476\"/>\n</g>\n<!-- 10 -->\n<g id=\"node11\" class=\"node\">\n<title>10</title>\n<path fill=\"#f7dac5\" stroke=\"#000000\" d=\"M450,-253.5C450,-253.5 330,-253.5 330,-253.5 324,-253.5 318,-247.5 318,-241.5 318,-241.5 318,-212.5 318,-212.5 318,-206.5 324,-200.5 330,-200.5 330,-200.5 450,-200.5 450,-200.5 456,-200.5 462,-206.5 462,-212.5 462,-212.5 462,-241.5 462,-241.5 462,-247.5 456,-253.5 450,-253.5\"/>\n<text text-anchor=\"start\" x=\"326\" y=\"-238.3\" font-family=\"Helvetica,sans-Serif\" font-size=\"14.00\" fill=\"#000000\">squared_error = 0.0</text>\n<text text-anchor=\"start\" x=\"350.5\" y=\"-223.3\" font-family=\"Helvetica,sans-Serif\" font-size=\"14.00\" fill=\"#000000\">samples = 1</text>\n<text text-anchor=\"start\" x=\"329.5\" y=\"-208.3\" font-family=\"Helvetica,sans-Serif\" font-size=\"14.00\" fill=\"#000000\">value = 5503538.0</text>\n</g>\n<!-- 4&#45;&gt;10 -->\n<g id=\"edge10\" class=\"edge\">\n<title>4&#45;&gt;10</title>\n<path fill=\"none\" stroke=\"#000000\" d=\"M341.5755,-296.9465C349.3537,-285.7113 358.0139,-273.2021 365.8355,-261.9043\"/>\n<polygon fill=\"#000000\" stroke=\"#000000\" points=\"368.8102,-263.7564 371.6247,-253.5422 363.0548,-259.7719 368.8102,-263.7564\"/>\n</g>\n<!-- 6 -->\n<g id=\"node7\" class=\"node\">\n<title>6</title>\n<path fill=\"#ffffff\" stroke=\"#000000\" d=\"M132,-149.5C132,-149.5 12,-149.5 12,-149.5 6,-149.5 0,-143.5 0,-137.5 0,-137.5 0,-108.5 0,-108.5 0,-102.5 6,-96.5 12,-96.5 12,-96.5 132,-96.5 132,-96.5 138,-96.5 144,-102.5 144,-108.5 144,-108.5 144,-137.5 144,-137.5 144,-143.5 138,-149.5 132,-149.5\"/>\n<text text-anchor=\"start\" x=\"8\" y=\"-134.3\" font-family=\"Helvetica,sans-Serif\" font-size=\"14.00\" fill=\"#000000\">squared_error = 0.0</text>\n<text text-anchor=\"start\" x=\"32.5\" y=\"-119.3\" font-family=\"Helvetica,sans-Serif\" font-size=\"14.00\" fill=\"#000000\">samples = 1</text>\n<text text-anchor=\"start\" x=\"11.5\" y=\"-104.3\" font-family=\"Helvetica,sans-Serif\" font-size=\"14.00\" fill=\"#000000\">value = 3595613.0</text>\n</g>\n<!-- 5&#45;&gt;6 -->\n<g id=\"edge6\" class=\"edge\">\n<title>5&#45;&gt;6</title>\n<path fill=\"none\" stroke=\"#000000\" d=\"M140.6014,-192.9465C129.2582,-181.3809 116.5908,-168.4652 105.2585,-156.9107\"/>\n<polygon fill=\"#000000\" stroke=\"#000000\" points=\"107.5326,-154.2308 98.0317,-149.5422 102.5351,-159.1323 107.5326,-154.2308\"/>\n</g>\n<!-- 7 -->\n<g id=\"node8\" class=\"node\">\n<title>7</title>\n<path fill=\"#fbeee4\" stroke=\"#000000\" d=\"M377.5,-157C377.5,-157 174.5,-157 174.5,-157 168.5,-157 162.5,-151 162.5,-145 162.5,-145 162.5,-101 162.5,-101 162.5,-95 168.5,-89 174.5,-89 174.5,-89 377.5,-89 377.5,-89 383.5,-89 389.5,-95 389.5,-101 389.5,-101 389.5,-145 389.5,-145 389.5,-151 383.5,-157 377.5,-157\"/>\n<text text-anchor=\"start\" x=\"208.5\" y=\"-141.8\" font-family=\"Helvetica,sans-Serif\" font-size=\"14.00\" fill=\"#000000\">p ≤ 114404999168.0</text>\n<text text-anchor=\"start\" x=\"170.5\" y=\"-126.8\" font-family=\"Helvetica,sans-Serif\" font-size=\"14.00\" fill=\"#000000\">squared_error = 29724863281.0</text>\n<text text-anchor=\"start\" x=\"236.5\" y=\"-111.8\" font-family=\"Helvetica,sans-Serif\" font-size=\"14.00\" fill=\"#000000\">samples = 2</text>\n<text text-anchor=\"start\" x=\"215.5\" y=\"-96.8\" font-family=\"Helvetica,sans-Serif\" font-size=\"14.00\" fill=\"#000000\">value = 4491955.0</text>\n</g>\n<!-- 5&#45;&gt;7 -->\n<g id=\"edge7\" class=\"edge\">\n<title>5&#45;&gt;7</title>\n<path fill=\"none\" stroke=\"#000000\" d=\"M207.3986,-192.9465C216.3806,-183.7884 226.1928,-173.7838 235.515,-164.2788\"/>\n<polygon fill=\"#000000\" stroke=\"#000000\" points=\"238.023,-166.7201 242.5263,-157.13 233.0254,-161.8187 238.023,-166.7201\"/>\n</g>\n<!-- 8 -->\n<g id=\"node9\" class=\"node\">\n<title>8</title>\n<path fill=\"#fcf1e9\" stroke=\"#000000\" d=\"M255,-53C255,-53 135,-53 135,-53 129,-53 123,-47 123,-41 123,-41 123,-12 123,-12 123,-6 129,0 135,0 135,0 255,0 255,0 261,0 267,-6 267,-12 267,-12 267,-41 267,-41 267,-47 261,-53 255,-53\"/>\n<text text-anchor=\"start\" x=\"131\" y=\"-37.8\" font-family=\"Helvetica,sans-Serif\" font-size=\"14.00\" fill=\"#000000\">squared_error = 0.0</text>\n<text text-anchor=\"start\" x=\"155.5\" y=\"-22.8\" font-family=\"Helvetica,sans-Serif\" font-size=\"14.00\" fill=\"#000000\">samples = 1</text>\n<text text-anchor=\"start\" x=\"134.5\" y=\"-7.8\" font-family=\"Helvetica,sans-Serif\" font-size=\"14.00\" fill=\"#000000\">value = 4319546.0</text>\n</g>\n<!-- 7&#45;&gt;8 -->\n<g id=\"edge8\" class=\"edge\">\n<title>7&#45;&gt;8</title>\n<path fill=\"none\" stroke=\"#000000\" d=\"M247.4424,-88.9777C239.8331,-79.9123 231.6061,-70.111 223.9747,-61.0192\"/>\n<polygon fill=\"#000000\" stroke=\"#000000\" points=\"226.562,-58.6577 217.4521,-53.2485 221.2005,-63.1581 226.562,-58.6577\"/>\n</g>\n<!-- 9 -->\n<g id=\"node10\" class=\"node\">\n<title>9</title>\n<path fill=\"#fbeadf\" stroke=\"#000000\" d=\"M417,-53C417,-53 297,-53 297,-53 291,-53 285,-47 285,-41 285,-41 285,-12 285,-12 285,-6 291,0 297,0 297,0 417,0 417,0 423,0 429,-6 429,-12 429,-12 429,-41 429,-41 429,-47 423,-53 417,-53\"/>\n<text text-anchor=\"start\" x=\"293\" y=\"-37.8\" font-family=\"Helvetica,sans-Serif\" font-size=\"14.00\" fill=\"#000000\">squared_error = 0.0</text>\n<text text-anchor=\"start\" x=\"317.5\" y=\"-22.8\" font-family=\"Helvetica,sans-Serif\" font-size=\"14.00\" fill=\"#000000\">samples = 1</text>\n<text text-anchor=\"start\" x=\"296.5\" y=\"-7.8\" font-family=\"Helvetica,sans-Serif\" font-size=\"14.00\" fill=\"#000000\">value = 4664364.0</text>\n</g>\n<!-- 7&#45;&gt;9 -->\n<g id=\"edge9\" class=\"edge\">\n<title>7&#45;&gt;9</title>\n<path fill=\"none\" stroke=\"#000000\" d=\"M304.5576,-88.9777C312.1669,-79.9123 320.3939,-70.111 328.0253,-61.0192\"/>\n<polygon fill=\"#000000\" stroke=\"#000000\" points=\"330.7995,-63.1581 334.5479,-53.2485 325.438,-58.6577 330.7995,-63.1581\"/>\n</g>\n<!-- 13 -->\n<g id=\"node14\" class=\"node\">\n<title>13</title>\n<path fill=\"#e5823a\" stroke=\"#000000\" d=\"M842.5,-469C842.5,-469 631.5,-469 631.5,-469 625.5,-469 619.5,-463 619.5,-457 619.5,-457 619.5,-413 619.5,-413 619.5,-407 625.5,-401 631.5,-401 631.5,-401 842.5,-401 842.5,-401 848.5,-401 854.5,-407 854.5,-413 854.5,-413 854.5,-457 854.5,-457 854.5,-463 848.5,-469 842.5,-469\"/>\n<text text-anchor=\"start\" x=\"672.5\" y=\"-453.8\" font-family=\"Helvetica,sans-Serif\" font-size=\"14.00\" fill=\"#000000\">sfs ≤ 2087082496.0</text>\n<text text-anchor=\"start\" x=\"627.5\" y=\"-438.8\" font-family=\"Helvetica,sans-Serif\" font-size=\"14.00\" fill=\"#000000\">squared_error = 2120605937.547</text>\n<text text-anchor=\"start\" x=\"697.5\" y=\"-423.8\" font-family=\"Helvetica,sans-Serif\" font-size=\"14.00\" fill=\"#000000\">samples = 3</text>\n<text text-anchor=\"start\" x=\"664\" y=\"-408.8\" font-family=\"Helvetica,sans-Serif\" font-size=\"14.00\" fill=\"#000000\">value = 10091190.333</text>\n</g>\n<!-- 12&#45;&gt;13 -->\n<g id=\"edge13\" class=\"edge\">\n<title>12&#45;&gt;13</title>\n<path fill=\"none\" stroke=\"#000000\" d=\"M746.4159,-504.9465C745.3039,-496.6863 744.0993,-487.7374 742.9349,-479.0875\"/>\n<polygon fill=\"#000000\" stroke=\"#000000\" points=\"746.3973,-478.5736 741.5944,-469.13 739.4599,-479.5076 746.3973,-478.5736\"/>\n</g>\n<!-- 18 -->\n<g id=\"node19\" class=\"node\">\n<title>18</title>\n<path fill=\"#ea9b62\" stroke=\"#000000\" d=\"M1005,-461.5C1005,-461.5 885,-461.5 885,-461.5 879,-461.5 873,-455.5 873,-449.5 873,-449.5 873,-420.5 873,-420.5 873,-414.5 879,-408.5 885,-408.5 885,-408.5 1005,-408.5 1005,-408.5 1011,-408.5 1017,-414.5 1017,-420.5 1017,-420.5 1017,-449.5 1017,-449.5 1017,-455.5 1011,-461.5 1005,-461.5\"/>\n<text text-anchor=\"start\" x=\"881\" y=\"-446.3\" font-family=\"Helvetica,sans-Serif\" font-size=\"14.00\" fill=\"#000000\">squared_error = 0.0</text>\n<text text-anchor=\"start\" x=\"905.5\" y=\"-431.3\" font-family=\"Helvetica,sans-Serif\" font-size=\"14.00\" fill=\"#000000\">samples = 1</text>\n<text text-anchor=\"start\" x=\"884.5\" y=\"-416.3\" font-family=\"Helvetica,sans-Serif\" font-size=\"14.00\" fill=\"#000000\">value = 8767492.0</text>\n</g>\n<!-- 12&#45;&gt;18 -->\n<g id=\"edge18\" class=\"edge\">\n<title>12&#45;&gt;18</title>\n<path fill=\"none\" stroke=\"#000000\" d=\"M814.5229,-504.9465C837.741,-492.4997 863.8759,-478.4892 886.6236,-466.2946\"/>\n<polygon fill=\"#000000\" stroke=\"#000000\" points=\"888.3289,-469.3517 895.4887,-461.5422 885.0215,-463.1822 888.3289,-469.3517\"/>\n</g>\n<!-- 14 -->\n<g id=\"node15\" class=\"node\">\n<title>14</title>\n<path fill=\"#e58139\" stroke=\"#000000\" d=\"M790,-365C790,-365 612,-365 612,-365 606,-365 600,-359 600,-353 600,-353 600,-309 600,-309 600,-303 606,-297 612,-297 612,-297 790,-297 790,-297 796,-297 802,-303 802,-309 802,-309 802,-353 802,-353 802,-359 796,-365 790,-365\"/>\n<text text-anchor=\"start\" x=\"636.5\" y=\"-349.8\" font-family=\"Helvetica,sans-Serif\" font-size=\"14.00\" fill=\"#000000\">sfs ≤ 1738499968.0</text>\n<text text-anchor=\"start\" x=\"608\" y=\"-334.8\" font-family=\"Helvetica,sans-Serif\" font-size=\"14.00\" fill=\"#000000\">squared_error = 1978242.25</text>\n<text text-anchor=\"start\" x=\"661.5\" y=\"-319.8\" font-family=\"Helvetica,sans-Serif\" font-size=\"14.00\" fill=\"#000000\">samples = 2</text>\n<text text-anchor=\"start\" x=\"636\" y=\"-304.8\" font-family=\"Helvetica,sans-Serif\" font-size=\"14.00\" fill=\"#000000\">value = 10123742.5</text>\n</g>\n<!-- 13&#45;&gt;14 -->\n<g id=\"edge14\" class=\"edge\">\n<title>13&#45;&gt;14</title>\n<path fill=\"none\" stroke=\"#000000\" d=\"M725.2123,-400.9465C722.3219,-392.5965 719.1879,-383.5427 716.1635,-374.8056\"/>\n<polygon fill=\"#000000\" stroke=\"#000000\" points=\"719.3929,-373.435 712.8142,-365.13 712.7779,-375.7248 719.3929,-373.435\"/>\n</g>\n<!-- 17 -->\n<g id=\"node18\" class=\"node\">\n<title>17</title>\n<path fill=\"#e5833c\" stroke=\"#000000\" d=\"M954,-357.5C954,-357.5 832,-357.5 832,-357.5 826,-357.5 820,-351.5 820,-345.5 820,-345.5 820,-316.5 820,-316.5 820,-310.5 826,-304.5 832,-304.5 832,-304.5 954,-304.5 954,-304.5 960,-304.5 966,-310.5 966,-316.5 966,-316.5 966,-345.5 966,-345.5 966,-351.5 960,-357.5 954,-357.5\"/>\n<text text-anchor=\"start\" x=\"829\" y=\"-342.3\" font-family=\"Helvetica,sans-Serif\" font-size=\"14.00\" fill=\"#000000\">squared_error = 0.0</text>\n<text text-anchor=\"start\" x=\"853.5\" y=\"-327.3\" font-family=\"Helvetica,sans-Serif\" font-size=\"14.00\" fill=\"#000000\">samples = 1</text>\n<text text-anchor=\"start\" x=\"828\" y=\"-312.3\" font-family=\"Helvetica,sans-Serif\" font-size=\"14.00\" fill=\"#000000\">value = 10026086.0</text>\n</g>\n<!-- 13&#45;&gt;17 -->\n<g id=\"edge17\" class=\"edge\">\n<title>13&#45;&gt;17</title>\n<path fill=\"none\" stroke=\"#000000\" d=\"M788.0802,-400.9465C806.2548,-388.8301 826.652,-375.232 844.5956,-363.2696\"/>\n<polygon fill=\"#000000\" stroke=\"#000000\" points=\"846.8077,-366.0014 853.1868,-357.5422 842.9248,-360.177 846.8077,-366.0014\"/>\n</g>\n<!-- 15 -->\n<g id=\"node16\" class=\"node\">\n<title>15</title>\n<path fill=\"#e58139\" stroke=\"#000000\" d=\"M664,-253.5C664,-253.5 542,-253.5 542,-253.5 536,-253.5 530,-247.5 530,-241.5 530,-241.5 530,-212.5 530,-212.5 530,-206.5 536,-200.5 542,-200.5 542,-200.5 664,-200.5 664,-200.5 670,-200.5 676,-206.5 676,-212.5 676,-212.5 676,-241.5 676,-241.5 676,-247.5 670,-253.5 664,-253.5\"/>\n<text text-anchor=\"start\" x=\"539\" y=\"-238.3\" font-family=\"Helvetica,sans-Serif\" font-size=\"14.00\" fill=\"#000000\">squared_error = 0.0</text>\n<text text-anchor=\"start\" x=\"563.5\" y=\"-223.3\" font-family=\"Helvetica,sans-Serif\" font-size=\"14.00\" fill=\"#000000\">samples = 1</text>\n<text text-anchor=\"start\" x=\"538\" y=\"-208.3\" font-family=\"Helvetica,sans-Serif\" font-size=\"14.00\" fill=\"#000000\">value = 10125149.0</text>\n</g>\n<!-- 14&#45;&gt;15 -->\n<g id=\"edge15\" class=\"edge\">\n<title>14&#45;&gt;15</title>\n<path fill=\"none\" stroke=\"#000000\" d=\"M668.9111,-296.9465C658.0127,-285.3809 645.8422,-272.4652 634.9543,-260.9107\"/>\n<polygon fill=\"#000000\" stroke=\"#000000\" points=\"637.4162,-258.4198 628.0109,-253.5422 632.3217,-263.2204 637.4162,-258.4198\"/>\n</g>\n<!-- 16 -->\n<g id=\"node17\" class=\"node\">\n<title>16</title>\n<path fill=\"#e58139\" stroke=\"#000000\" d=\"M828,-253.5C828,-253.5 706,-253.5 706,-253.5 700,-253.5 694,-247.5 694,-241.5 694,-241.5 694,-212.5 694,-212.5 694,-206.5 700,-200.5 706,-200.5 706,-200.5 828,-200.5 828,-200.5 834,-200.5 840,-206.5 840,-212.5 840,-212.5 840,-241.5 840,-241.5 840,-247.5 834,-253.5 828,-253.5\"/>\n<text text-anchor=\"start\" x=\"703\" y=\"-238.3\" font-family=\"Helvetica,sans-Serif\" font-size=\"14.00\" fill=\"#000000\">squared_error = 0.0</text>\n<text text-anchor=\"start\" x=\"727.5\" y=\"-223.3\" font-family=\"Helvetica,sans-Serif\" font-size=\"14.00\" fill=\"#000000\">samples = 1</text>\n<text text-anchor=\"start\" x=\"702\" y=\"-208.3\" font-family=\"Helvetica,sans-Serif\" font-size=\"14.00\" fill=\"#000000\">value = 10122336.0</text>\n</g>\n<!-- 14&#45;&gt;16 -->\n<g id=\"edge16\" class=\"edge\">\n<title>14&#45;&gt;16</title>\n<path fill=\"none\" stroke=\"#000000\" d=\"M722.6109,-296.9465C729.671,-285.8215 737.5239,-273.4473 744.6381,-262.237\"/>\n<polygon fill=\"#000000\" stroke=\"#000000\" points=\"747.7528,-263.8609 750.1559,-253.5422 741.8425,-260.1101 747.7528,-263.8609\"/>\n</g>\n</g>\n</svg>\n"
          },
          "metadata": {},
          "execution_count": 42
        }
      ]
    },
    {
      "cell_type": "markdown",
      "metadata": {
        "id": "AW0mqNSXeAND"
      },
      "source": [
        ""
      ]
    }
  ]
}